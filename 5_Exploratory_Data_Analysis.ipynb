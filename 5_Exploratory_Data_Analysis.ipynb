{
  "cells": [
    {
      "cell_type": "markdown",
      "metadata": {
        "id": "view-in-github",
        "colab_type": "text"
      },
      "source": [
        "<a href=\"https://colab.research.google.com/github/NimishPrakash/IBM-Data-Analyst-Capstone-Project/blob/main/5_Exploratory_Data_Analysis.ipynb\" target=\"_parent\"><img src=\"https://colab.research.google.com/assets/colab-badge.svg\" alt=\"Open In Colab\"/></a>"
      ]
    },
    {
      "cell_type": "markdown",
      "metadata": {
        "id": "r4BkusS7vVaY"
      },
      "source": [
        "<p style=\"text-align:center\">\n",
        "    <a href=\"https://skills.network/?utm_medium=Exinfluencer&utm_source=Exinfluencer&utm_content=000026UJ&utm_term=10006555&utm_id=NA-SkillsNetwork-Channel-SkillsNetworkCoursesIBMDA0321ENSkillsNetwork928-2023-01-01\">\n",
        "    <img src=\"https://cf-courses-data.s3.us.cloud-object-storage.appdomain.cloud/assets/logos/SN_web_lightmode.png\" width=\"200\" alt=\"Skills Network Logo\"  />\n",
        "    </a>\n",
        "</p>\n"
      ]
    },
    {
      "cell_type": "markdown",
      "metadata": {
        "id": "7AjG1dJ9vVab"
      },
      "source": [
        "# **Exploratory Data Analysis Lab**\n"
      ]
    },
    {
      "cell_type": "markdown",
      "metadata": {
        "id": "pcHcJgZgvVab"
      },
      "source": [
        "Estimated time needed: **30** minutes\n"
      ]
    },
    {
      "cell_type": "markdown",
      "metadata": {
        "id": "i47FxcWhvVac"
      },
      "source": [
        "In this module you get to work with the cleaned dataset from the previous module.\n",
        "\n",
        "In this assignment you will perform the task of exploratory data analysis.\n",
        "You will find out the distribution of data, presence of outliers and also determine the correlation between different columns in the dataset.\n"
      ]
    },
    {
      "cell_type": "markdown",
      "metadata": {
        "id": "bpHqOMdtvVac"
      },
      "source": [
        "## Objectives\n"
      ]
    },
    {
      "cell_type": "markdown",
      "metadata": {
        "id": "Rf2VlMNKvVad"
      },
      "source": [
        "In this lab you will perform the following:\n"
      ]
    },
    {
      "cell_type": "markdown",
      "metadata": {
        "id": "q6tlGCCpvVad"
      },
      "source": [
        "-   Identify the distribution of data in the dataset.\n",
        "\n",
        "-   Identify outliers in the dataset.\n",
        "\n",
        "-   Remove outliers from the dataset.\n",
        "\n",
        "-   Identify correlation between features in the dataset.\n"
      ]
    },
    {
      "cell_type": "markdown",
      "metadata": {
        "id": "JKVw32wvvVae"
      },
      "source": [
        "* * *\n"
      ]
    },
    {
      "cell_type": "markdown",
      "metadata": {
        "id": "NCE2wGa-vVaf"
      },
      "source": [
        "## Hands on Lab\n"
      ]
    },
    {
      "cell_type": "markdown",
      "metadata": {
        "id": "AkCc8UlUvVaf"
      },
      "source": [
        "Import the pandas module.\n"
      ]
    },
    {
      "cell_type": "code",
      "source": [
        "import pandas as pd"
      ],
      "metadata": {
        "id": "Qg2ilUEq0-Rz"
      },
      "execution_count": 1,
      "outputs": []
    },
    {
      "cell_type": "markdown",
      "source": [
        "import pandas as pd\n",
        "import numpy as np\n",
        "import matplotlib.pyplot as plt\n",
        "import seaborn as sns"
      ],
      "metadata": {
        "id": "vqrcd_BZzXUu"
      }
    },
    {
      "cell_type": "code",
      "source": [
        "import numpy as np\n",
        "import matplotlib.pyplot as plt\n",
        "import seaborn as sns"
      ],
      "metadata": {
        "id": "wKKFXrUS1CRU"
      },
      "execution_count": 2,
      "outputs": []
    },
    {
      "cell_type": "markdown",
      "source": [
        "import pandas as pd\n",
        "import numpy as np\n",
        "import matplotlib.pyplot as plt"
      ],
      "metadata": {
        "id": "E7vGtzcyvVag"
      }
    },
    {
      "cell_type": "markdown",
      "metadata": {
        "id": "EIVRe514vVah"
      },
      "source": [
        "Load the dataset into a dataframe.\n"
      ]
    },
    {
      "cell_type": "code",
      "execution_count": 3,
      "metadata": {
        "id": "MJoi2wcTvVah"
      },
      "outputs": [],
      "source": [
        "df = pd.read_csv(\"https://cf-courses-data.s3.us.cloud-object-storage.appdomain.cloud/IBM-DA0321EN-SkillsNetwork/LargeData/m2_survey_data.csv\")"
      ]
    },
    {
      "cell_type": "code",
      "source": [
        "df.head().T"
      ],
      "metadata": {
        "colab": {
          "base_uri": "https://localhost:8080/",
          "height": 458
        },
        "id": "lud13LDRz2Wa",
        "outputId": "de457853-5b0b-4496-fcd1-0379d17cfe97"
      },
      "execution_count": 4,
      "outputs": [
        {
          "output_type": "execute_result",
          "data": {
            "text/plain": [
              "                                                              0  \\\n",
              "Respondent                                                    4   \n",
              "MainBranch                       I am a developer by profession   \n",
              "Hobbyist                                                     No   \n",
              "OpenSourcer                                               Never   \n",
              "OpenSource    The quality of OSS and closed source software ...   \n",
              "...                                                         ...   \n",
              "Sexuality                               Straight / Heterosexual   \n",
              "Ethnicity                          White or of European descent   \n",
              "Dependents                                                   No   \n",
              "SurveyLength                              Appropriate in length   \n",
              "SurveyEase                                                 Easy   \n",
              "\n",
              "                                                              1  \\\n",
              "Respondent                                                    9   \n",
              "MainBranch                       I am a developer by profession   \n",
              "Hobbyist                                                    Yes   \n",
              "OpenSourcer                          Once a month or more often   \n",
              "OpenSource    The quality of OSS and closed source software ...   \n",
              "...                                                         ...   \n",
              "Sexuality                                              Bisexual   \n",
              "Ethnicity                          White or of European descent   \n",
              "Dependents                                                   No   \n",
              "SurveyLength                              Appropriate in length   \n",
              "SurveyEase                           Neither easy nor difficult   \n",
              "\n",
              "                                                              2  \\\n",
              "Respondent                                                   13   \n",
              "MainBranch                       I am a developer by profession   \n",
              "Hobbyist                                                    Yes   \n",
              "OpenSourcer   Less than once a month but more than once per ...   \n",
              "OpenSource    OSS is, on average, of HIGHER quality than pro...   \n",
              "...                                                         ...   \n",
              "Sexuality                               Straight / Heterosexual   \n",
              "Ethnicity                          White or of European descent   \n",
              "Dependents                                                  Yes   \n",
              "SurveyLength                              Appropriate in length   \n",
              "SurveyEase                                                 Easy   \n",
              "\n",
              "                                                              3  \\\n",
              "Respondent                                                   16   \n",
              "MainBranch                       I am a developer by profession   \n",
              "Hobbyist                                                    Yes   \n",
              "OpenSourcer                                               Never   \n",
              "OpenSource    The quality of OSS and closed source software ...   \n",
              "...                                                         ...   \n",
              "Sexuality                               Straight / Heterosexual   \n",
              "Ethnicity                          White or of European descent   \n",
              "Dependents                                                   No   \n",
              "SurveyLength                              Appropriate in length   \n",
              "SurveyEase                           Neither easy nor difficult   \n",
              "\n",
              "                                                              4  \n",
              "Respondent                                                   17  \n",
              "MainBranch                       I am a developer by profession  \n",
              "Hobbyist                                                    Yes  \n",
              "OpenSourcer   Less than once a month but more than once per ...  \n",
              "OpenSource    The quality of OSS and closed source software ...  \n",
              "...                                                         ...  \n",
              "Sexuality                               Straight / Heterosexual  \n",
              "Ethnicity                 Hispanic or Latino/Latina;Multiracial  \n",
              "Dependents                                                   No  \n",
              "SurveyLength                              Appropriate in length  \n",
              "SurveyEase                                                 Easy  \n",
              "\n",
              "[85 rows x 5 columns]"
            ],
            "text/html": [
              "\n",
              "  <div id=\"df-5773bf19-9b10-4546-a617-d32b2653cc90\" class=\"colab-df-container\">\n",
              "    <div>\n",
              "<style scoped>\n",
              "    .dataframe tbody tr th:only-of-type {\n",
              "        vertical-align: middle;\n",
              "    }\n",
              "\n",
              "    .dataframe tbody tr th {\n",
              "        vertical-align: top;\n",
              "    }\n",
              "\n",
              "    .dataframe thead th {\n",
              "        text-align: right;\n",
              "    }\n",
              "</style>\n",
              "<table border=\"1\" class=\"dataframe\">\n",
              "  <thead>\n",
              "    <tr style=\"text-align: right;\">\n",
              "      <th></th>\n",
              "      <th>0</th>\n",
              "      <th>1</th>\n",
              "      <th>2</th>\n",
              "      <th>3</th>\n",
              "      <th>4</th>\n",
              "    </tr>\n",
              "  </thead>\n",
              "  <tbody>\n",
              "    <tr>\n",
              "      <th>Respondent</th>\n",
              "      <td>4</td>\n",
              "      <td>9</td>\n",
              "      <td>13</td>\n",
              "      <td>16</td>\n",
              "      <td>17</td>\n",
              "    </tr>\n",
              "    <tr>\n",
              "      <th>MainBranch</th>\n",
              "      <td>I am a developer by profession</td>\n",
              "      <td>I am a developer by profession</td>\n",
              "      <td>I am a developer by profession</td>\n",
              "      <td>I am a developer by profession</td>\n",
              "      <td>I am a developer by profession</td>\n",
              "    </tr>\n",
              "    <tr>\n",
              "      <th>Hobbyist</th>\n",
              "      <td>No</td>\n",
              "      <td>Yes</td>\n",
              "      <td>Yes</td>\n",
              "      <td>Yes</td>\n",
              "      <td>Yes</td>\n",
              "    </tr>\n",
              "    <tr>\n",
              "      <th>OpenSourcer</th>\n",
              "      <td>Never</td>\n",
              "      <td>Once a month or more often</td>\n",
              "      <td>Less than once a month but more than once per ...</td>\n",
              "      <td>Never</td>\n",
              "      <td>Less than once a month but more than once per ...</td>\n",
              "    </tr>\n",
              "    <tr>\n",
              "      <th>OpenSource</th>\n",
              "      <td>The quality of OSS and closed source software ...</td>\n",
              "      <td>The quality of OSS and closed source software ...</td>\n",
              "      <td>OSS is, on average, of HIGHER quality than pro...</td>\n",
              "      <td>The quality of OSS and closed source software ...</td>\n",
              "      <td>The quality of OSS and closed source software ...</td>\n",
              "    </tr>\n",
              "    <tr>\n",
              "      <th>...</th>\n",
              "      <td>...</td>\n",
              "      <td>...</td>\n",
              "      <td>...</td>\n",
              "      <td>...</td>\n",
              "      <td>...</td>\n",
              "    </tr>\n",
              "    <tr>\n",
              "      <th>Sexuality</th>\n",
              "      <td>Straight / Heterosexual</td>\n",
              "      <td>Bisexual</td>\n",
              "      <td>Straight / Heterosexual</td>\n",
              "      <td>Straight / Heterosexual</td>\n",
              "      <td>Straight / Heterosexual</td>\n",
              "    </tr>\n",
              "    <tr>\n",
              "      <th>Ethnicity</th>\n",
              "      <td>White or of European descent</td>\n",
              "      <td>White or of European descent</td>\n",
              "      <td>White or of European descent</td>\n",
              "      <td>White or of European descent</td>\n",
              "      <td>Hispanic or Latino/Latina;Multiracial</td>\n",
              "    </tr>\n",
              "    <tr>\n",
              "      <th>Dependents</th>\n",
              "      <td>No</td>\n",
              "      <td>No</td>\n",
              "      <td>Yes</td>\n",
              "      <td>No</td>\n",
              "      <td>No</td>\n",
              "    </tr>\n",
              "    <tr>\n",
              "      <th>SurveyLength</th>\n",
              "      <td>Appropriate in length</td>\n",
              "      <td>Appropriate in length</td>\n",
              "      <td>Appropriate in length</td>\n",
              "      <td>Appropriate in length</td>\n",
              "      <td>Appropriate in length</td>\n",
              "    </tr>\n",
              "    <tr>\n",
              "      <th>SurveyEase</th>\n",
              "      <td>Easy</td>\n",
              "      <td>Neither easy nor difficult</td>\n",
              "      <td>Easy</td>\n",
              "      <td>Neither easy nor difficult</td>\n",
              "      <td>Easy</td>\n",
              "    </tr>\n",
              "  </tbody>\n",
              "</table>\n",
              "<p>85 rows × 5 columns</p>\n",
              "</div>\n",
              "    <div class=\"colab-df-buttons\">\n",
              "\n",
              "  <div class=\"colab-df-container\">\n",
              "    <button class=\"colab-df-convert\" onclick=\"convertToInteractive('df-5773bf19-9b10-4546-a617-d32b2653cc90')\"\n",
              "            title=\"Convert this dataframe to an interactive table.\"\n",
              "            style=\"display:none;\">\n",
              "\n",
              "  <svg xmlns=\"http://www.w3.org/2000/svg\" height=\"24px\" viewBox=\"0 -960 960 960\">\n",
              "    <path d=\"M120-120v-720h720v720H120Zm60-500h600v-160H180v160Zm220 220h160v-160H400v160Zm0 220h160v-160H400v160ZM180-400h160v-160H180v160Zm440 0h160v-160H620v160ZM180-180h160v-160H180v160Zm440 0h160v-160H620v160Z\"/>\n",
              "  </svg>\n",
              "    </button>\n",
              "\n",
              "  <style>\n",
              "    .colab-df-container {\n",
              "      display:flex;\n",
              "      gap: 12px;\n",
              "    }\n",
              "\n",
              "    .colab-df-convert {\n",
              "      background-color: #E8F0FE;\n",
              "      border: none;\n",
              "      border-radius: 50%;\n",
              "      cursor: pointer;\n",
              "      display: none;\n",
              "      fill: #1967D2;\n",
              "      height: 32px;\n",
              "      padding: 0 0 0 0;\n",
              "      width: 32px;\n",
              "    }\n",
              "\n",
              "    .colab-df-convert:hover {\n",
              "      background-color: #E2EBFA;\n",
              "      box-shadow: 0px 1px 2px rgba(60, 64, 67, 0.3), 0px 1px 3px 1px rgba(60, 64, 67, 0.15);\n",
              "      fill: #174EA6;\n",
              "    }\n",
              "\n",
              "    .colab-df-buttons div {\n",
              "      margin-bottom: 4px;\n",
              "    }\n",
              "\n",
              "    [theme=dark] .colab-df-convert {\n",
              "      background-color: #3B4455;\n",
              "      fill: #D2E3FC;\n",
              "    }\n",
              "\n",
              "    [theme=dark] .colab-df-convert:hover {\n",
              "      background-color: #434B5C;\n",
              "      box-shadow: 0px 1px 3px 1px rgba(0, 0, 0, 0.15);\n",
              "      filter: drop-shadow(0px 1px 2px rgba(0, 0, 0, 0.3));\n",
              "      fill: #FFFFFF;\n",
              "    }\n",
              "  </style>\n",
              "\n",
              "    <script>\n",
              "      const buttonEl =\n",
              "        document.querySelector('#df-5773bf19-9b10-4546-a617-d32b2653cc90 button.colab-df-convert');\n",
              "      buttonEl.style.display =\n",
              "        google.colab.kernel.accessAllowed ? 'block' : 'none';\n",
              "\n",
              "      async function convertToInteractive(key) {\n",
              "        const element = document.querySelector('#df-5773bf19-9b10-4546-a617-d32b2653cc90');\n",
              "        const dataTable =\n",
              "          await google.colab.kernel.invokeFunction('convertToInteractive',\n",
              "                                                    [key], {});\n",
              "        if (!dataTable) return;\n",
              "\n",
              "        const docLinkHtml = 'Like what you see? Visit the ' +\n",
              "          '<a target=\"_blank\" href=https://colab.research.google.com/notebooks/data_table.ipynb>data table notebook</a>'\n",
              "          + ' to learn more about interactive tables.';\n",
              "        element.innerHTML = '';\n",
              "        dataTable['output_type'] = 'display_data';\n",
              "        await google.colab.output.renderOutput(dataTable, element);\n",
              "        const docLink = document.createElement('div');\n",
              "        docLink.innerHTML = docLinkHtml;\n",
              "        element.appendChild(docLink);\n",
              "      }\n",
              "    </script>\n",
              "  </div>\n",
              "\n",
              "\n",
              "<div id=\"df-46be4e98-0027-4c23-8e47-839f67596891\">\n",
              "  <button class=\"colab-df-quickchart\" onclick=\"quickchart('df-46be4e98-0027-4c23-8e47-839f67596891')\"\n",
              "            title=\"Suggest charts\"\n",
              "            style=\"display:none;\">\n",
              "\n",
              "<svg xmlns=\"http://www.w3.org/2000/svg\" height=\"24px\"viewBox=\"0 0 24 24\"\n",
              "     width=\"24px\">\n",
              "    <g>\n",
              "        <path d=\"M19 3H5c-1.1 0-2 .9-2 2v14c0 1.1.9 2 2 2h14c1.1 0 2-.9 2-2V5c0-1.1-.9-2-2-2zM9 17H7v-7h2v7zm4 0h-2V7h2v10zm4 0h-2v-4h2v4z\"/>\n",
              "    </g>\n",
              "</svg>\n",
              "  </button>\n",
              "\n",
              "<style>\n",
              "  .colab-df-quickchart {\n",
              "      --bg-color: #E8F0FE;\n",
              "      --fill-color: #1967D2;\n",
              "      --hover-bg-color: #E2EBFA;\n",
              "      --hover-fill-color: #174EA6;\n",
              "      --disabled-fill-color: #AAA;\n",
              "      --disabled-bg-color: #DDD;\n",
              "  }\n",
              "\n",
              "  [theme=dark] .colab-df-quickchart {\n",
              "      --bg-color: #3B4455;\n",
              "      --fill-color: #D2E3FC;\n",
              "      --hover-bg-color: #434B5C;\n",
              "      --hover-fill-color: #FFFFFF;\n",
              "      --disabled-bg-color: #3B4455;\n",
              "      --disabled-fill-color: #666;\n",
              "  }\n",
              "\n",
              "  .colab-df-quickchart {\n",
              "    background-color: var(--bg-color);\n",
              "    border: none;\n",
              "    border-radius: 50%;\n",
              "    cursor: pointer;\n",
              "    display: none;\n",
              "    fill: var(--fill-color);\n",
              "    height: 32px;\n",
              "    padding: 0;\n",
              "    width: 32px;\n",
              "  }\n",
              "\n",
              "  .colab-df-quickchart:hover {\n",
              "    background-color: var(--hover-bg-color);\n",
              "    box-shadow: 0 1px 2px rgba(60, 64, 67, 0.3), 0 1px 3px 1px rgba(60, 64, 67, 0.15);\n",
              "    fill: var(--button-hover-fill-color);\n",
              "  }\n",
              "\n",
              "  .colab-df-quickchart-complete:disabled,\n",
              "  .colab-df-quickchart-complete:disabled:hover {\n",
              "    background-color: var(--disabled-bg-color);\n",
              "    fill: var(--disabled-fill-color);\n",
              "    box-shadow: none;\n",
              "  }\n",
              "\n",
              "  .colab-df-spinner {\n",
              "    border: 2px solid var(--fill-color);\n",
              "    border-color: transparent;\n",
              "    border-bottom-color: var(--fill-color);\n",
              "    animation:\n",
              "      spin 1s steps(1) infinite;\n",
              "  }\n",
              "\n",
              "  @keyframes spin {\n",
              "    0% {\n",
              "      border-color: transparent;\n",
              "      border-bottom-color: var(--fill-color);\n",
              "      border-left-color: var(--fill-color);\n",
              "    }\n",
              "    20% {\n",
              "      border-color: transparent;\n",
              "      border-left-color: var(--fill-color);\n",
              "      border-top-color: var(--fill-color);\n",
              "    }\n",
              "    30% {\n",
              "      border-color: transparent;\n",
              "      border-left-color: var(--fill-color);\n",
              "      border-top-color: var(--fill-color);\n",
              "      border-right-color: var(--fill-color);\n",
              "    }\n",
              "    40% {\n",
              "      border-color: transparent;\n",
              "      border-right-color: var(--fill-color);\n",
              "      border-top-color: var(--fill-color);\n",
              "    }\n",
              "    60% {\n",
              "      border-color: transparent;\n",
              "      border-right-color: var(--fill-color);\n",
              "    }\n",
              "    80% {\n",
              "      border-color: transparent;\n",
              "      border-right-color: var(--fill-color);\n",
              "      border-bottom-color: var(--fill-color);\n",
              "    }\n",
              "    90% {\n",
              "      border-color: transparent;\n",
              "      border-bottom-color: var(--fill-color);\n",
              "    }\n",
              "  }\n",
              "</style>\n",
              "\n",
              "  <script>\n",
              "    async function quickchart(key) {\n",
              "      const quickchartButtonEl =\n",
              "        document.querySelector('#' + key + ' button');\n",
              "      quickchartButtonEl.disabled = true;  // To prevent multiple clicks.\n",
              "      quickchartButtonEl.classList.add('colab-df-spinner');\n",
              "      try {\n",
              "        const charts = await google.colab.kernel.invokeFunction(\n",
              "            'suggestCharts', [key], {});\n",
              "      } catch (error) {\n",
              "        console.error('Error during call to suggestCharts:', error);\n",
              "      }\n",
              "      quickchartButtonEl.classList.remove('colab-df-spinner');\n",
              "      quickchartButtonEl.classList.add('colab-df-quickchart-complete');\n",
              "    }\n",
              "    (() => {\n",
              "      let quickchartButtonEl =\n",
              "        document.querySelector('#df-46be4e98-0027-4c23-8e47-839f67596891 button');\n",
              "      quickchartButtonEl.style.display =\n",
              "        google.colab.kernel.accessAllowed ? 'block' : 'none';\n",
              "    })();\n",
              "  </script>\n",
              "</div>\n",
              "\n",
              "    </div>\n",
              "  </div>\n"
            ],
            "application/vnd.google.colaboratory.intrinsic+json": {
              "type": "dataframe",
              "variable_name": "df"
            }
          },
          "metadata": {},
          "execution_count": 4
        }
      ]
    },
    {
      "cell_type": "code",
      "source": [
        "df.info()"
      ],
      "metadata": {
        "colab": {
          "base_uri": "https://localhost:8080/"
        },
        "id": "45Rf2HVkzeHA",
        "outputId": "13c3749d-6b5f-4500-b616-4a0b6026a89f"
      },
      "execution_count": 5,
      "outputs": [
        {
          "output_type": "stream",
          "name": "stdout",
          "text": [
            "<class 'pandas.core.frame.DataFrame'>\n",
            "RangeIndex: 11398 entries, 0 to 11397\n",
            "Data columns (total 85 columns):\n",
            " #   Column                  Non-Null Count  Dtype  \n",
            "---  ------                  --------------  -----  \n",
            " 0   Respondent              11398 non-null  int64  \n",
            " 1   MainBranch              11398 non-null  object \n",
            " 2   Hobbyist                11398 non-null  object \n",
            " 3   OpenSourcer             11398 non-null  object \n",
            " 4   OpenSource              11317 non-null  object \n",
            " 5   Employment              11398 non-null  object \n",
            " 6   Country                 11398 non-null  object \n",
            " 7   Student                 11347 non-null  object \n",
            " 8   EdLevel                 11286 non-null  object \n",
            " 9   UndergradMajor          10661 non-null  object \n",
            " 10  EduOther                11234 non-null  object \n",
            " 11  OrgSize                 11302 non-null  object \n",
            " 12  DevType                 11333 non-null  object \n",
            " 13  YearsCode               11389 non-null  object \n",
            " 14  Age1stCode              11385 non-null  object \n",
            " 15  YearsCodePro            11382 non-null  object \n",
            " 16  CareerSat               11398 non-null  object \n",
            " 17  JobSat                  11397 non-null  object \n",
            " 18  MgrIdiot                10905 non-null  object \n",
            " 19  MgrMoney                10901 non-null  object \n",
            " 20  MgrWant                 10905 non-null  object \n",
            " 21  JobSeek                 11398 non-null  object \n",
            " 22  LastHireDate            11398 non-null  object \n",
            " 23  LastInt                 10985 non-null  object \n",
            " 24  FizzBuzz                11361 non-null  object \n",
            " 25  JobFactors              11395 non-null  object \n",
            " 26  ResumeUpdate            11359 non-null  object \n",
            " 27  CurrencySymbol          11398 non-null  object \n",
            " 28  CurrencyDesc            11398 non-null  object \n",
            " 29  CompTotal               10589 non-null  float64\n",
            " 30  CompFreq                11192 non-null  object \n",
            " 31  ConvertedComp           10582 non-null  float64\n",
            " 32  WorkWeekHrs             11276 non-null  float64\n",
            " 33  WorkPlan                11277 non-null  object \n",
            " 34  WorkChallenge           11234 non-null  object \n",
            " 35  WorkRemote              11390 non-null  object \n",
            " 36  WorkLoc                 11366 non-null  object \n",
            " 37  ImpSyn                  11393 non-null  object \n",
            " 38  CodeRev                 11397 non-null  object \n",
            " 39  CodeRevHrs              8972 non-null   float64\n",
            " 40  UnitTests               11369 non-null  object \n",
            " 41  PurchaseHow             11202 non-null  object \n",
            " 42  PurchaseWhat            11360 non-null  object \n",
            " 43  LanguageWorkedWith      11387 non-null  object \n",
            " 44  LanguageDesireNextYear  11264 non-null  object \n",
            " 45  DatabaseWorkedWith      10945 non-null  object \n",
            " 46  DatabaseDesireNextYear  10356 non-null  object \n",
            " 47  PlatformWorkedWith      10987 non-null  object \n",
            " 48  PlatformDesireNextYear  10854 non-null  object \n",
            " 49  WebFrameWorkedWith      10005 non-null  object \n",
            " 50  WebFrameDesireNextYear  9781 non-null   object \n",
            " 51  MiscTechWorkedWith      9216 non-null   object \n",
            " 52  MiscTechDesireNextYear  9943 non-null   object \n",
            " 53  DevEnviron              11369 non-null  object \n",
            " 54  OpSys                   11364 non-null  object \n",
            " 55  Containers              11316 non-null  object \n",
            " 56  BlockchainOrg           9076 non-null   object \n",
            " 57  BlockchainIs            8788 non-null   object \n",
            " 58  BetterLife              11300 non-null  object \n",
            " 59  ITperson                11363 non-null  object \n",
            " 60  OffOn                   11360 non-null  object \n",
            " 61  SocialMedia             11105 non-null  object \n",
            " 62  Extraversion            11378 non-null  object \n",
            " 63  ScreenName              10891 non-null  object \n",
            " 64  SOVisit1st              11073 non-null  object \n",
            " 65  SOVisitFreq             11393 non-null  object \n",
            " 66  SOVisitTo               11397 non-null  object \n",
            " 67  SOFindAnswer            11395 non-null  object \n",
            " 68  SOTimeSaved             11348 non-null  object \n",
            " 69  SOHowMuchTime           9481 non-null   object \n",
            " 70  SOAccount               11397 non-null  object \n",
            " 71  SOPartFreq              10270 non-null  object \n",
            " 72  SOJobs                  11392 non-null  object \n",
            " 73  EntTeams                11393 non-null  object \n",
            " 74  SOComm                  11398 non-null  object \n",
            " 75  WelcomeChange           11313 non-null  object \n",
            " 76  SONewContent            9433 non-null   object \n",
            " 77  Age                     11111 non-null  float64\n",
            " 78  Gender                  11325 non-null  object \n",
            " 79  Trans                   11275 non-null  object \n",
            " 80  Sexuality               10856 non-null  object \n",
            " 81  Ethnicity               10723 non-null  object \n",
            " 82  Dependents              11258 non-null  object \n",
            " 83  SurveyLength            11379 non-null  object \n",
            " 84  SurveyEase              11384 non-null  object \n",
            "dtypes: float64(5), int64(1), object(79)\n",
            "memory usage: 7.4+ MB\n"
          ]
        }
      ]
    },
    {
      "cell_type": "markdown",
      "metadata": {
        "id": "T6PTTdwUvVah"
      },
      "source": [
        "## Distribution\n"
      ]
    },
    {
      "cell_type": "markdown",
      "metadata": {
        "id": "cmmRutH3vVah"
      },
      "source": [
        "### Determine how the data is distributed\n"
      ]
    },
    {
      "cell_type": "markdown",
      "metadata": {
        "id": "Eo5bm1PvvVai"
      },
      "source": [
        "The column `ConvertedComp` contains Salary converted to annual USD salaries using the exchange rate on 2019-02-01.\n",
        "\n",
        "This assumes 12 working months and 50 working weeks.\n"
      ]
    },
    {
      "cell_type": "markdown",
      "metadata": {
        "id": "Cl6GYKe0vVai"
      },
      "source": [
        "Plot the distribution curve for the column `ConvertedComp`.\n"
      ]
    },
    {
      "cell_type": "code",
      "execution_count": 6,
      "metadata": {
        "id": "BEapF26evVai",
        "colab": {
          "base_uri": "https://localhost:8080/",
          "height": 529
        },
        "outputId": "45271ad3-7ef8-4b37-dc9a-df35b77f8f16"
      },
      "outputs": [
        {
          "output_type": "display_data",
          "data": {
            "text/plain": [
              "<Figure size 500x500 with 1 Axes>"
            ],
            "image/png": "[encoded data removed]"
          },
          "metadata": {}
        }
      ],
      "source": [
        "sns.displot(df['ConvertedComp'],kde=True)\n",
        "plt.xlabel('Converted Comp in USD')\n",
        "plt.ylabel('Frequency')\n",
        "plt.title('Distribution of Converted Comp')\n",
        "plt.show()"
      ]
    },
    {
      "cell_type": "markdown",
      "metadata": {
        "id": "orQNYAXuvVai"
      },
      "source": [
        "Plot the histogram for the column `ConvertedComp`.\n"
      ]
    },
    {
      "cell_type": "code",
      "execution_count": 7,
      "metadata": {
        "id": "5ExBAWrUvVai",
        "colab": {
          "base_uri": "https://localhost:8080/",
          "height": 472
        },
        "outputId": "ddfea962-b737-43bd-84a6-1e1c6e7cf880"
      },
      "outputs": [
        {
          "output_type": "display_data",
          "data": {
            "text/plain": [
              "<Figure size 640x480 with 1 Axes>"
            ],
            "image/png": "[encoded data removed]"
          },
          "metadata": {}
        }
      ],
      "source": [
        "plt.hist(df['ConvertedComp'],bins=20)\n",
        "plt.xlabel('Converted Comp in USD')\n",
        "plt.ylabel('Frequency')\n",
        "plt.title('Histogram of Converted Comp')\n",
        "plt.show()"
      ]
    },
    {
      "cell_type": "markdown",
      "metadata": {
        "id": "PKVhw6CZvVai"
      },
      "source": [
        "What is the median of the column `ConvertedComp`?\n"
      ]
    },
    {
      "cell_type": "code",
      "execution_count": 8,
      "metadata": {
        "id": "1dgL8S54vVaj",
        "colab": {
          "base_uri": "https://localhost:8080/"
        },
        "outputId": "7a4dac5a-3f07-4082-cc09-09ab32b62b21"
      },
      "outputs": [
        {
          "output_type": "execute_result",
          "data": {
            "text/plain": [
              "57745.0"
            ]
          },
          "metadata": {},
          "execution_count": 8
        }
      ],
      "source": [
        "df['ConvertedComp'].median()"
      ]
    },
    {
      "cell_type": "markdown",
      "metadata": {
        "id": "eLqM8qFAvVaj"
      },
      "source": [
        "How many responders identified themselves only as a **Man**?\n"
      ]
    },
    {
      "cell_type": "code",
      "execution_count": 9,
      "metadata": {
        "id": "NfNk1hCxvVaj",
        "colab": {
          "base_uri": "https://localhost:8080/",
          "height": 335
        },
        "outputId": "1480fe83-f78f-4fc0-cd77-98581efe9d1d"
      },
      "outputs": [
        {
          "output_type": "execute_result",
          "data": {
            "text/plain": [
              "Gender\n",
              "Man                                                            10480\n",
              "Woman                                                            731\n",
              "Non-binary, genderqueer, or gender non-conforming                 63\n",
              "Man;Non-binary, genderqueer, or gender non-conforming             26\n",
              "Woman;Non-binary, genderqueer, or gender non-conforming           14\n",
              "Woman;Man                                                          9\n",
              "Woman;Man;Non-binary, genderqueer, or gender non-conforming        2\n",
              "Name: count, dtype: int64"
            ],
            "text/html": [
              "<div>\n",
              "<style scoped>\n",
              "    .dataframe tbody tr th:only-of-type {\n",
              "        vertical-align: middle;\n",
              "    }\n",
              "\n",
              "    .dataframe tbody tr th {\n",
              "        vertical-align: top;\n",
              "    }\n",
              "\n",
              "    .dataframe thead th {\n",
              "        text-align: right;\n",
              "    }\n",
              "</style>\n",
              "<table border=\"1\" class=\"dataframe\">\n",
              "  <thead>\n",
              "    <tr style=\"text-align: right;\">\n",
              "      <th></th>\n",
              "      <th>count</th>\n",
              "    </tr>\n",
              "    <tr>\n",
              "      <th>Gender</th>\n",
              "      <th></th>\n",
              "    </tr>\n",
              "  </thead>\n",
              "  <tbody>\n",
              "    <tr>\n",
              "      <th>Man</th>\n",
              "      <td>10480</td>\n",
              "    </tr>\n",
              "    <tr>\n",
              "      <th>Woman</th>\n",
              "      <td>731</td>\n",
              "    </tr>\n",
              "    <tr>\n",
              "      <th>Non-binary, genderqueer, or gender non-conforming</th>\n",
              "      <td>63</td>\n",
              "    </tr>\n",
              "    <tr>\n",
              "      <th>Man;Non-binary, genderqueer, or gender non-conforming</th>\n",
              "      <td>26</td>\n",
              "    </tr>\n",
              "    <tr>\n",
              "      <th>Woman;Non-binary, genderqueer, or gender non-conforming</th>\n",
              "      <td>14</td>\n",
              "    </tr>\n",
              "    <tr>\n",
              "      <th>Woman;Man</th>\n",
              "      <td>9</td>\n",
              "    </tr>\n",
              "    <tr>\n",
              "      <th>Woman;Man;Non-binary, genderqueer, or gender non-conforming</th>\n",
              "      <td>2</td>\n",
              "    </tr>\n",
              "  </tbody>\n",
              "</table>\n",
              "</div><br><label><b>dtype:</b> int64</label>"
            ]
          },
          "metadata": {},
          "execution_count": 9
        }
      ],
      "source": [
        "df.Gender.value_counts()"
      ]
    },
    {
      "cell_type": "code",
      "source": [
        "# Number of Man Respondent\n",
        "df[df['Gender']=='Man'].shape[0]"
      ],
      "metadata": {
        "colab": {
          "base_uri": "https://localhost:8080/"
        },
        "id": "P_IyJr592IXY",
        "outputId": "d103ac3f-f4c1-4300-cd9b-9317750e189b"
      },
      "execution_count": 10,
      "outputs": [
        {
          "output_type": "execute_result",
          "data": {
            "text/plain": [
              "10480"
            ]
          },
          "metadata": {},
          "execution_count": 10
        }
      ]
    },
    {
      "cell_type": "markdown",
      "metadata": {
        "id": "8nbUfNG7vVaj"
      },
      "source": [
        "Find out the  median ConvertedComp of responders identified themselves only as a **Woman**?\n"
      ]
    },
    {
      "cell_type": "code",
      "execution_count": 11,
      "metadata": {
        "id": "qpwNuvFTvVaj",
        "colab": {
          "base_uri": "https://localhost:8080/"
        },
        "outputId": "846e2eeb-4767-4827-a8de-86e303b86e9d"
      },
      "outputs": [
        {
          "output_type": "execute_result",
          "data": {
            "text/plain": [
              "57708.0"
            ]
          },
          "metadata": {},
          "execution_count": 11
        }
      ],
      "source": [
        "df[df['Gender']=='Woman']['ConvertedComp'].median()"
      ]
    },
    {
      "cell_type": "markdown",
      "metadata": {
        "id": "eInzGRhDvVaj"
      },
      "source": [
        "Give the five number summary for the column `Age`?\n"
      ]
    },
    {
      "cell_type": "markdown",
      "metadata": {
        "id": "xwxTzQwovVaj"
      },
      "source": [
        "**Double click here for hint**.\n",
        "\n",
        "<!--\n",
        "min,q1,median,q3,max of a column are its five number summary.\n",
        "-->\n"
      ]
    },
    {
      "cell_type": "code",
      "execution_count": 12,
      "metadata": {
        "id": "EC4lP_OJvVaj"
      },
      "outputs": [],
      "source": [
        "# min,q1,median,q3,max of a column are its five number summary\n",
        "age_min = df.Age.min()\n",
        "age_q1 = df.Age.quantile(0.25)\n",
        "age_median = df.Age.median()\n",
        "age_q3 = df.Age.quantile(0.75)\n",
        "age_max = df.Age.max()"
      ]
    },
    {
      "cell_type": "code",
      "source": [
        "print(\"Minimum age:\", age_min)\n",
        "print(\"Q1 (25th percentile) age:\", age_q1)\n",
        "print(\"Median age:\", age_median)\n",
        "print(\"Q3 (75th percentile) age:\", age_q3)\n",
        "print(\"Maximum age:\", age_max)"
      ],
      "metadata": {
        "colab": {
          "base_uri": "https://localhost:8080/"
        },
        "id": "FHq-vi9u3TRf",
        "outputId": "b636ac43-ab06-4c5c-a16d-1831a1f62bbc"
      },
      "execution_count": 13,
      "outputs": [
        {
          "output_type": "stream",
          "name": "stdout",
          "text": [
            "Minimum age: 16.0\n",
            "Q1 (25th percentile) age: 25.0\n",
            "Median age: 29.0\n",
            "Q3 (75th percentile) age: 35.0\n",
            "Maximum age: 99.0\n"
          ]
        }
      ]
    },
    {
      "cell_type": "markdown",
      "metadata": {
        "id": "zClWiFA6vVaj"
      },
      "source": [
        "Plot a histogram of the column `Age`.\n"
      ]
    },
    {
      "cell_type": "code",
      "execution_count": 14,
      "metadata": {
        "id": "jTiJdqyZvVak",
        "colab": {
          "base_uri": "https://localhost:8080/",
          "height": 472
        },
        "outputId": "0c519fa8-6f8c-4446-85f6-aeb7709e807e"
      },
      "outputs": [
        {
          "output_type": "display_data",
          "data": {
            "text/plain": [
              "<Figure size 640x480 with 1 Axes>"
            ],
            "image/png": "[encoded data removed]"
          },
          "metadata": {}
        }
      ],
      "source": [
        "plt.hist(df['Age'],edgecolor='black')\n",
        "plt.xlabel('Age')\n",
        "plt.ylabel('Frequency')\n",
        "plt.title('Histogram of Age')\n",
        "plt.show()"
      ]
    },
    {
      "cell_type": "markdown",
      "metadata": {
        "id": "2kzycWu_vVak"
      },
      "source": [
        "## Outliers\n"
      ]
    },
    {
      "cell_type": "markdown",
      "metadata": {
        "id": "jK55RpnIvVak"
      },
      "source": [
        "### Finding outliers\n"
      ]
    },
    {
      "cell_type": "markdown",
      "metadata": {
        "id": "-CZrDYaTvVak"
      },
      "source": [
        "Find out if outliers exist in the column `ConvertedComp` using a box plot?\n"
      ]
    },
    {
      "cell_type": "code",
      "execution_count": 15,
      "metadata": {
        "id": "9dCq9Z6hvVal",
        "colab": {
          "base_uri": "https://localhost:8080/",
          "height": 452
        },
        "outputId": "51b467f0-8169-4de2-afc1-6c6b5eaa2b24"
      },
      "outputs": [
        {
          "output_type": "display_data",
          "data": {
            "text/plain": [
              "<Figure size 640x480 with 1 Axes>"
            ],
            "image/png": "[encoded data removed]"
          },
          "metadata": {}
        }
      ],
      "source": [
        "df.boxplot(column='ConvertedComp')\n",
        "plt.ylabel('Amount in USD')\n",
        "plt.title('Boxplot Plot for Outliers')\n",
        "plt.show()"
      ]
    },
    {
      "cell_type": "markdown",
      "metadata": {
        "id": "ahGKQBmZvVal"
      },
      "source": [
        "Find out the Inter Quartile Range for the column `ConvertedComp`.\n"
      ]
    },
    {
      "cell_type": "code",
      "execution_count": 16,
      "metadata": {
        "id": "sQXWybSovVam",
        "colab": {
          "base_uri": "https://localhost:8080/"
        },
        "outputId": "0b62b023-f0a2-4ca8-86d5-e900094df969"
      },
      "outputs": [
        {
          "output_type": "stream",
          "name": "stdout",
          "text": [
            "Interquartile Range: 73132.0\n"
          ]
        }
      ],
      "source": [
        "# 25th and 75th percentiles\n",
        "Q1 = df['ConvertedComp'].quantile(0.25)\n",
        "Q2 = df['ConvertedComp'].quantile(0.50)\n",
        "Q3 = df['ConvertedComp'].quantile(0.75)\n",
        "\n",
        "# Interquartile range (IQR)\n",
        "IQR = Q3 - Q1\n",
        "\n",
        "print(\"Interquartile Range:\", IQR)"
      ]
    },
    {
      "cell_type": "code",
      "source": [
        "# Median before removing outliers\n",
        "print(Q2)"
      ],
      "metadata": {
        "colab": {
          "base_uri": "https://localhost:8080/"
        },
        "id": "_Nbmz6DjJ7pE",
        "outputId": "8739f563-1537-4316-8b79-2eefb2a8b499"
      },
      "execution_count": 17,
      "outputs": [
        {
          "output_type": "stream",
          "name": "stdout",
          "text": [
            "57745.0\n"
          ]
        }
      ]
    },
    {
      "cell_type": "markdown",
      "metadata": {
        "id": "E_lpRtYnvVam"
      },
      "source": [
        "Find out the upper and lower bounds.\n"
      ]
    },
    {
      "cell_type": "code",
      "execution_count": 18,
      "metadata": {
        "id": "Fl0EfLBovVam",
        "colab": {
          "base_uri": "https://localhost:8080/"
        },
        "outputId": "f1ad95bb-c4a1-4324-e5d4-08ae04eda140"
      },
      "outputs": [
        {
          "output_type": "stream",
          "name": "stdout",
          "text": [
            "Upper Bound: 209698.0\n",
            "Lower Bound: -82830.0\n"
          ]
        }
      ],
      "source": [
        "# The upper and lower bounds\n",
        "upper_bound = Q3 + (1.5 * IQR)\n",
        "lower_bound = Q1 - (1.5 * IQR)\n",
        "\n",
        "print(\"Upper Bound:\", upper_bound)\n",
        "print(\"Lower Bound:\", lower_bound)"
      ]
    },
    {
      "cell_type": "markdown",
      "source": [
        "Number of Outliers below Q1"
      ],
      "metadata": {
        "id": "as2UtEwNMFlA"
      }
    },
    {
      "cell_type": "code",
      "source": [
        "# Outliers below Q1\n",
        "outliers_below_Q1 = df[df['Age'] < lower_bound]\n",
        "\n",
        "# Number of outliers below Q1\n",
        "num_outliers_below_Q1 = outliers_below_Q1.shape[0]\n",
        "\n",
        "print('Number of outliers below Q1:',num_outliers_below_Q1)"
      ],
      "metadata": {
        "colab": {
          "base_uri": "https://localhost:8080/"
        },
        "id": "TvO4crWNLvlV",
        "outputId": "21fe4f73-89df-4388-aaaf-183dd1a60ff0"
      },
      "execution_count": 19,
      "outputs": [
        {
          "output_type": "stream",
          "name": "stdout",
          "text": [
            "Number of outliers below Q1: 0\n"
          ]
        }
      ]
    },
    {
      "cell_type": "markdown",
      "metadata": {
        "id": "WiCqc1xrvVam"
      },
      "source": [
        "Identify how many outliers are there in the `ConvertedComp` column.\n"
      ]
    },
    {
      "cell_type": "code",
      "execution_count": 20,
      "metadata": {
        "id": "sj74mk_BvVam",
        "colab": {
          "base_uri": "https://localhost:8080/"
        },
        "outputId": "ae0d575f-254f-409c-dee9-2c1a5afcc222"
      },
      "outputs": [
        {
          "output_type": "stream",
          "name": "stdout",
          "text": [
            "Number of Outliers: 879\n"
          ]
        }
      ],
      "source": [
        "outliers = df[(df['ConvertedComp'] > upper_bound) | (df['ConvertedComp'] < lower_bound)]\n",
        "num_outliers = outliers.shape[0]\n",
        "\n",
        "print(\"Number of Outliers:\", num_outliers)"
      ]
    },
    {
      "cell_type": "markdown",
      "metadata": {
        "id": "bmpv6VeLvVan"
      },
      "source": [
        "Create a new dataframe by removing the outliers from the `ConvertedComp` column.\n"
      ]
    },
    {
      "cell_type": "code",
      "execution_count": 21,
      "metadata": {
        "id": "NQ19TJpRvVan",
        "colab": {
          "base_uri": "https://localhost:8080/"
        },
        "outputId": "fc6dc706-5da1-4269-b1d1-6eb341e8c400"
      },
      "outputs": [
        {
          "output_type": "execute_result",
          "data": {
            "text/plain": [
              "(9703, 85)"
            ]
          },
          "metadata": {},
          "execution_count": 21
        }
      ],
      "source": [
        "df_no_outliers = df[(df['ConvertedComp'] >= lower_bound) & (df['ConvertedComp'] <= upper_bound)]\n",
        "\n",
        "# Shape of the dataframe after removing outliers\n",
        "df_no_outliers.shape"
      ]
    },
    {
      "cell_type": "code",
      "source": [
        "# Median after removing outliers\n",
        "Q2 = df_no_outliers['ConvertedComp'].quantile(0.50)\n",
        "print('Median:',Q2)\n",
        "\n",
        "# Mean after removing outliers\n",
        "mean = df_no_outliers['ConvertedComp'].mean()\n",
        "print(f'Mean: {mean:.2f}')"
      ],
      "metadata": {
        "colab": {
          "base_uri": "https://localhost:8080/"
        },
        "id": "5CDRbolfKO1c",
        "outputId": "ac2376b6-fd85-470d-d068-d28892a93e26"
      },
      "execution_count": 22,
      "outputs": [
        {
          "output_type": "stream",
          "name": "stdout",
          "text": [
            "Median: 52704.0\n",
            "Mean: 59883.21\n"
          ]
        }
      ]
    },
    {
      "cell_type": "markdown",
      "metadata": {
        "id": "amgH7t9CvVan"
      },
      "source": [
        "## Correlation\n"
      ]
    },
    {
      "cell_type": "markdown",
      "metadata": {
        "id": "POHhMAGjvVan"
      },
      "source": [
        "### Finding correlation\n"
      ]
    },
    {
      "cell_type": "markdown",
      "metadata": {
        "id": "xrl-QQM2vVan"
      },
      "source": [
        "Find the correlation between `Age` and all other numerical columns.\n"
      ]
    },
    {
      "cell_type": "code",
      "source": [
        "# Numerical columns from the DataFrame\n",
        "numerical_df = df.select_dtypes(include=['number'])\n",
        "\n",
        "correlation = numerical_df.corrwith(df['Age'])\n",
        "\n",
        "print(correlation)"
      ],
      "metadata": {
        "colab": {
          "base_uri": "https://localhost:8080/"
        },
        "id": "IR93zO4IIUeC",
        "outputId": "57fa911d-8c59-49d7-fb46-0e15d52bbbb1"
      },
      "execution_count": 23,
      "outputs": [
        {
          "output_type": "stream",
          "name": "stdout",
          "text": [
            "Respondent       0.004041\n",
            "CompTotal        0.006970\n",
            "ConvertedComp    0.105386\n",
            "WorkWeekHrs      0.036518\n",
            "CodeRevHrs      -0.020469\n",
            "Age              1.000000\n",
            "dtype: float64\n"
          ]
        }
      ]
    },
    {
      "cell_type": "markdown",
      "metadata": {
        "id": "DpcDjdrevVan"
      },
      "source": [
        "## Authors\n"
      ]
    },
    {
      "cell_type": "markdown",
      "metadata": {
        "id": "rP51zw8DvVan"
      },
      "source": [
        "Ramesh Sannareddy\n"
      ]
    },
    {
      "cell_type": "markdown",
      "metadata": {
        "id": "18tmsHvIvVan"
      },
      "source": [
        "### Other Contributors\n"
      ]
    },
    {
      "cell_type": "markdown",
      "metadata": {
        "id": "eiyLggi0vVao"
      },
      "source": [
        "Rav Ahuja\n"
      ]
    },
    {
      "cell_type": "markdown",
      "metadata": {
        "id": "rrcLPPP0vVao"
      },
      "source": [
        "## Change Log\n"
      ]
    },
    {
      "cell_type": "markdown",
      "metadata": {
        "id": "CITH9NPYvVao"
      },
      "source": [
        "| Date (YYYY-MM-DD) | Version | Changed By        | Change Description                 |\n",
        "| ----------------- | ------- | ----------------- | ---------------------------------- |\n",
        "| 2020-10-17        | 0.1     | Ramesh Sannareddy | Created initial version of the lab |\n"
      ]
    },
    {
      "cell_type": "markdown",
      "metadata": {
        "id": "hAN7st6kvVao"
      },
      "source": [
        " Copyright © 2020 IBM Corporation. This notebook and its source code are released under the terms of the [MIT License](https://cognitiveclass.ai/mit-license?utm_medium=Exinfluencer&utm_source=Exinfluencer&utm_content=000026UJ&utm_term=10006555&utm_id=NA-SkillsNetwork-Channel-SkillsNetworkCoursesIBMDA0321ENSkillsNetwork928-2023-01-01&cm_mmc=Email_Newsletter-_-Developer_Ed%2BTech-_-WW_WW-_-SkillsNetwork-Courses-IBM-DA0321EN-SkillsNetwork-21426264&cm_mmca1=000026UJ&cm_mmca2=10006555&cm_mmca3=M12345678&cvosrc=email.Newsletter.M12345678&cvo_campaign=000026UJ).\n"
      ]
    }
  ],
  "metadata": {
    "kernelspec": {
      "display_name": "Python 3",
      "name": "python3"
    },
    "language_info": {
      "name": "python"
    },
    "colab": {
      "provenance": [],
      "include_colab_link": true
    }
  },
  "nbformat": 4,
  "nbformat_minor": 0
}